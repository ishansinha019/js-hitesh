Vanilla Javascript is - Synchronous : single threaded
- the execution context executes one line of code at a time so each operation waits for the last one to complete before executing

Blocking code vs Non Blocking code:

Blocking code - blocks the flow of program, read file sync 
Non Blocking code - Does not block execution, read file Async
